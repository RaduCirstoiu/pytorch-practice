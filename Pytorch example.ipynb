{
 "cells": [
  {
   "cell_type": "markdown",
   "metadata": {},
   "source": [
    "## Pytorch example\n",
    "Taken from https://github.com/rguthrie3/DeepLearningForNLPInPytorch/blob/master/Deep%20Learning%20for%20Natural%20Language%20Processing%20with%20Pytorch.ipynb"
   ]
  },
  {
   "cell_type": "code",
   "execution_count": 1,
   "metadata": {
    "collapsed": true
   },
   "outputs": [],
   "source": [
    "%matplotlib inline\n",
    "\n",
    "import torch\n",
    "from torch.autograd import Variable\n",
    "import torch.nn as nn\n",
    "import torch.nn.functional as F\n",
    "import torch.optim as optim\n",
    "\n",
    "torch.manual_seed(1)\n",
    "\n",
    "import numpy as np\n",
    "\n",
    "from tqdm import tqdm\n",
    "\n",
    "import pandas as pd\n",
    "\n",
    "import matplotlib.pyplot as plt\n",
    "import seaborn as sns\n",
    "\n",
    "sns.set_context(\"poster\")\n",
    "sns.set_style(\"ticks\")\n"
   ]
  },
  {
   "cell_type": "markdown",
   "metadata": {},
   "source": [
    "## Creating variables"
   ]
  },
  {
   "cell_type": "code",
   "execution_count": 2,
   "metadata": {},
   "outputs": [
    {
     "data": {
      "text/plain": [
       "array([ 0.39670073,  0.10558598,  0.81686217,  0.37422602,  0.29857204,\n",
       "        0.33278065,  0.66014766,  0.55107125,  0.2067656 ,  0.48672191])"
      ]
     },
     "execution_count": 2,
     "metadata": {},
     "output_type": "execute_result"
    }
   ],
   "source": [
    "a = np.random.rand(10)\n",
    "a"
   ]
  },
  {
   "cell_type": "code",
   "execution_count": 3,
   "metadata": {},
   "outputs": [
    {
     "data": {
      "text/plain": [
       "\n",
       " 0.3967\n",
       " 0.1056\n",
       " 0.8169\n",
       " 0.3742\n",
       " 0.2986\n",
       " 0.3328\n",
       " 0.6601\n",
       " 0.5511\n",
       " 0.2068\n",
       " 0.4867\n",
       "[torch.FloatTensor of size 10]"
      ]
     },
     "execution_count": 3,
     "metadata": {},
     "output_type": "execute_result"
    }
   ],
   "source": [
    "a_tch = torch.Tensor(a)\n",
    "a_tch"
   ]
  },
  {
   "cell_type": "code",
   "execution_count": 4,
   "metadata": {},
   "outputs": [
    {
     "data": {
      "text/plain": [
       "0.39670073986053467"
      ]
     },
     "execution_count": 4,
     "metadata": {},
     "output_type": "execute_result"
    }
   ],
   "source": [
    "a_tch[0]"
   ]
  },
  {
   "cell_type": "code",
   "execution_count": 5,
   "metadata": {},
   "outputs": [
    {
     "data": {
      "text/plain": [
       "\n",
       "(0 ,.,.) = \n",
       "  0.4170  0.9972  0.7203  0.9326\n",
       "  0.0001  0.1281  0.3023  0.9990\n",
       "  0.1468  0.2361  0.0923  0.3966\n",
       "\n",
       "(1 ,.,.) = \n",
       "  0.1863  0.3879  0.3456  0.6697\n",
       "  0.3968  0.9355  0.5388  0.8463\n",
       "  0.4192  0.3133  0.6852  0.5245\n",
       "[torch.FloatTensor of size 2x3x4]"
      ]
     },
     "execution_count": 5,
     "metadata": {},
     "output_type": "execute_result"
    }
   ],
   "source": [
    "a_tch = torch.rand((2,3,4))\n",
    "a_tch"
   ]
  },
  {
   "cell_type": "code",
   "execution_count": 6,
   "metadata": {},
   "outputs": [
    {
     "data": {
      "text/plain": [
       "\n",
       " 1  5\n",
       " 7  6\n",
       "[torch.FloatTensor of size 2x2]"
      ]
     },
     "execution_count": 6,
     "metadata": {},
     "output_type": "execute_result"
    }
   ],
   "source": [
    "x = torch.Tensor([[0, 1.], [2, 3]])\n",
    "y = torch.Tensor([[1, 4.], [5, 3]])\n",
    "x+y"
   ]
  },
  {
   "cell_type": "code",
   "execution_count": 7,
   "metadata": {},
   "outputs": [
    {
     "data": {
      "text/plain": [
       "\n",
       " 0  1  1  4\n",
       " 2  3  5  3\n",
       "[torch.FloatTensor of size 2x4]"
      ]
     },
     "execution_count": 7,
     "metadata": {},
     "output_type": "execute_result"
    }
   ],
   "source": [
    "torch.cat([x,y], 1)"
   ]
  },
  {
   "cell_type": "code",
   "execution_count": 8,
   "metadata": {},
   "outputs": [
    {
     "data": {
      "text/plain": [
       "\n",
       " 0  1  2  3\n",
       "[torch.FloatTensor of size 1x4]"
      ]
     },
     "execution_count": 8,
     "metadata": {},
     "output_type": "execute_result"
    }
   ],
   "source": [
    "x.view((1,-1))"
   ]
  },
  {
   "cell_type": "markdown",
   "metadata": {},
   "source": [
    "## Autograd"
   ]
  },
  {
   "cell_type": "code",
   "execution_count": 9,
   "metadata": {},
   "outputs": [
    {
     "name": "stdout",
     "output_type": "stream",
     "text": [
      "\n",
      " 1\n",
      " 2\n",
      "[torch.FloatTensor of size 2]\n",
      "\n"
     ]
    }
   ],
   "source": [
    "x = Variable(torch.Tensor([1,2]), requires_grad=True)\n",
    "print(x.data)"
   ]
  },
  {
   "cell_type": "code",
   "execution_count": 10,
   "metadata": {},
   "outputs": [
    {
     "data": {
      "text/plain": [
       "Variable containing:\n",
       " 1\n",
       " 2\n",
       "[torch.FloatTensor of size 2]"
      ]
     },
     "execution_count": 10,
     "metadata": {},
     "output_type": "execute_result"
    }
   ],
   "source": [
    "x"
   ]
  },
  {
   "cell_type": "code",
   "execution_count": 11,
   "metadata": {},
   "outputs": [
    {
     "data": {
      "text/plain": [
       "Variable containing:\n",
       " 4\n",
       " 7\n",
       "[torch.FloatTensor of size 2]"
      ]
     },
     "execution_count": 11,
     "metadata": {},
     "output_type": "execute_result"
    }
   ],
   "source": [
    "y = Variable(torch.Tensor([3,5]), requires_grad=True)\n",
    "z = x+y\n",
    "z"
   ]
  },
  {
   "cell_type": "code",
   "execution_count": 12,
   "metadata": {},
   "outputs": [
    {
     "data": {
      "text/plain": [
       "<torch.autograd._functions.basic_ops.Add at 0x7f127c87a3c8>"
      ]
     },
     "execution_count": 12,
     "metadata": {},
     "output_type": "execute_result"
    }
   ],
   "source": [
    "z.creator"
   ]
  },
  {
   "cell_type": "code",
   "execution_count": 13,
   "metadata": {},
   "outputs": [
    {
     "data": {
      "text/plain": [
       "<torch.autograd._functions.reduce.Sum at 0x7f127c87a588>"
      ]
     },
     "execution_count": 13,
     "metadata": {},
     "output_type": "execute_result"
    }
   ],
   "source": [
    "s = z.sum()\n",
    "s.creator"
   ]
  },
  {
   "cell_type": "code",
   "execution_count": 14,
   "metadata": {},
   "outputs": [
    {
     "name": "stdout",
     "output_type": "stream",
     "text": [
      "Variable containing:\n",
      " 1\n",
      " 1\n",
      "[torch.FloatTensor of size 2]\n",
      "\n"
     ]
    }
   ],
   "source": [
    "s.backward()\n",
    "print(x.grad)"
   ]
  },
  {
   "cell_type": "code",
   "execution_count": 15,
   "metadata": {},
   "outputs": [
    {
     "name": "stdout",
     "output_type": "stream",
     "text": [
      "<torch.autograd._functions.basic_ops.Add object at 0x7f121a662128>\n",
      "None\n"
     ]
    }
   ],
   "source": [
    "## Tensors are data objects\n",
    "x = torch.rand((2,2))\n",
    "y = torch.rand((2,2))\n",
    "z = x+y\n",
    "\n",
    "## Variables are variable objects also contain the grad details and computational graph details\n",
    "var_x = Variable(x)\n",
    "var_y = Variable(y)\n",
    "var_z = var_x + var_y\n",
    "print(var_z.creator)\n",
    "\n",
    "## I am breaking the chain of the variable by creating a new variable with same data. \n",
    "## Gradients will not propogate\n",
    "var_z_data = var_z.data\n",
    "new_var_z = Variable(var_z_data)\n",
    "print(new_var_z.creator)\n"
   ]
  },
  {
   "cell_type": "code",
   "execution_count": 16,
   "metadata": {},
   "outputs": [
    {
     "data": {
      "text/plain": [
       "torch.Size([2, 2])"
      ]
     },
     "execution_count": 16,
     "metadata": {},
     "output_type": "execute_result"
    }
   ],
   "source": [
    "x.size()"
   ]
  },
  {
   "cell_type": "code",
   "execution_count": 17,
   "metadata": {},
   "outputs": [
    {
     "data": {
      "text/plain": [
       "torch.Size([2, 2])"
      ]
     },
     "execution_count": 17,
     "metadata": {},
     "output_type": "execute_result"
    }
   ],
   "source": [
    "var_x.data.size()"
   ]
  },
  {
   "cell_type": "code",
   "execution_count": 18,
   "metadata": {},
   "outputs": [
    {
     "data": {
      "text/plain": [
       "\n",
       "-0.9596\n",
       "[torch.FloatTensor of size 1]"
      ]
     },
     "execution_count": 18,
     "metadata": {},
     "output_type": "execute_result"
    }
   ],
   "source": [
    "torch.randn(1)"
   ]
  },
  {
   "cell_type": "code",
   "execution_count": 19,
   "metadata": {},
   "outputs": [
    {
     "data": {
      "text/plain": [
       "\n",
       " 2.1934 -0.4928\n",
       "-0.9578  0.7760\n",
       "[torch.FloatTensor of size 2x2]"
      ]
     },
     "execution_count": 19,
     "metadata": {},
     "output_type": "execute_result"
    }
   ],
   "source": [
    "torch.randn([1,2]).expand_as(torch.randn((2,2))) + torch.randn((2,2))"
   ]
  },
  {
   "cell_type": "code",
   "execution_count": 20,
   "metadata": {},
   "outputs": [
    {
     "data": {
      "text/plain": [
       "Variable containing:\n",
       " 0.2045  0.8781\n",
       " 0.4435  0.2296\n",
       "[torch.FloatTensor of size 2x2]"
      ]
     },
     "execution_count": 20,
     "metadata": {},
     "output_type": "execute_result"
    }
   ],
   "source": [
    "var_x.transpose(1,0)"
   ]
  },
  {
   "cell_type": "markdown",
   "metadata": {},
   "source": [
    "## Building blocks"
   ]
  },
  {
   "cell_type": "code",
   "execution_count": 21,
   "metadata": {},
   "outputs": [
    {
     "data": {
      "text/plain": [
       "Variable containing:\n",
       " 0.0000  0.5331  0.0000  0.0000\n",
       " 0.0000  0.7109  0.0000  0.2759\n",
       "[torch.FloatTensor of size 2x4]"
      ]
     },
     "execution_count": 21,
     "metadata": {},
     "output_type": "execute_result"
    }
   ],
   "source": [
    "l1 = nn.Linear(x.size(1), 4)\n",
    "h1 = l1(var_x)\n",
    "F.relu(h1)"
   ]
  },
  {
   "cell_type": "code",
   "execution_count": 22,
   "metadata": {},
   "outputs": [
    {
     "data": {
      "text/plain": [
       "Variable containing:\n",
       " 0.1062  0.4435  0.1901  0.2601\n",
       " 0.0826  0.4353  0.2002  0.2818\n",
       "[torch.FloatTensor of size 2x4]"
      ]
     },
     "execution_count": 22,
     "metadata": {},
     "output_type": "execute_result"
    }
   ],
   "source": [
    "F.softmax(h1)"
   ]
  },
  {
   "cell_type": "code",
   "execution_count": 23,
   "metadata": {},
   "outputs": [
    {
     "data": {
      "text/plain": [
       "Variable containing:\n",
       " 1\n",
       " 1\n",
       "[torch.FloatTensor of size 2x1]"
      ]
     },
     "execution_count": 23,
     "metadata": {},
     "output_type": "execute_result"
    }
   ],
   "source": [
    "F.softmax(h1).sum(1)"
   ]
  },
  {
   "cell_type": "markdown",
   "metadata": {},
   "source": [
    "## Language prediction"
   ]
  },
  {
   "cell_type": "code",
   "execution_count": 24,
   "metadata": {
    "collapsed": true
   },
   "outputs": [],
   "source": [
    "data = [ (\"me gusta comer en la cafeteria\".split(), \"SPANISH\"),\n",
    "         (\"Give it to me\".split(), \"ENGLISH\"),\n",
    "         (\"No creo que sea una buena idea\".split(), \"SPANISH\"),\n",
    "         (\"No it is not a good idea to get lost at sea\".split(), \"ENGLISH\") ]\n",
    "\n",
    "test_data = [ (\"Yo creo que si\".split(), \"SPANISH\"),\n",
    "              (\"it is lost on me\".split(), \"ENGLISH\")]"
   ]
  },
  {
   "cell_type": "code",
   "execution_count": 25,
   "metadata": {
    "collapsed": true
   },
   "outputs": [],
   "source": [
    "class Vocab(object):\n",
    "    def __init__(self, name=\"vocab\",\n",
    "                 offset_items=tuple([]),\n",
    "                 UNK=None):\n",
    "        self.name = name\n",
    "        self.item2idx = {}\n",
    "        self.idx2item = []\n",
    "        self.size = 0\n",
    "        self.UNK = UNK\n",
    "        \n",
    "        self.batch_add(offset_items)\n",
    "        if UNK is not None:\n",
    "            self.add(UNK)\n",
    "            self.UNK_ID = self.item2idx[self.UNK]\n",
    "        self.offset = self.size\n",
    "        \n",
    "    def add(self, item):\n",
    "        if item not in self.item2idx:\n",
    "            self.item2idx[item] = self.size\n",
    "            self.size += 1\n",
    "            self.idx2item.append(item)\n",
    "            \n",
    "    def batch_add(self, items):\n",
    "        for item in items:\n",
    "            self.add(item)\n",
    "            \n",
    "    def getidx(self, item):\n",
    "        if item not in self.item2idx:\n",
    "            if self.UNK is None:\n",
    "                raise RuntimeError(\"UNK is not defined. %s not in vocab.\" % item)\n",
    "            return self.UNK_ID\n",
    "        return self.item2idx[item]\n",
    "            \n",
    "    def __repr__(self):\n",
    "        return \"Vocab(name={}, size={:d}, UNK={}, offset={:d})\".format(\n",
    "            self.name, self.size,\n",
    "            self.UNK, self.offset\n",
    "        )"
   ]
  },
  {
   "cell_type": "code",
   "execution_count": 26,
   "metadata": {},
   "outputs": [
    {
     "name": "stdout",
     "output_type": "stream",
     "text": [
      "Vocab(name=words, size=24, UNK=UNK, offset=1) ['UNK', 'me', 'gusta', 'comer', 'en', 'la', 'cafeteria', 'Give', 'it', 'to', 'No', 'creo', 'que', 'sea', 'una', 'buena', 'idea', 'is', 'not', 'a', 'good', 'get', 'lost', 'at'] {'is': 17, 'gusta': 2, 'Give': 7, 'No': 10, 'lost': 22, 'me': 1, 'a': 19, 'una': 14, 'get': 21, 'cafeteria': 6, 'sea': 13, 'idea': 16, 'en': 4, 'good': 20, 'not': 18, 'comer': 3, 'at': 23, 'buena': 15, 'que': 12, 'UNK': 0, 'to': 9, 'it': 8, 'creo': 11, 'la': 5}\n",
      "Vocab(name=labels, size=2, UNK=None, offset=0) ['SPANISH', 'ENGLISH'] {'SPANISH': 0, 'ENGLISH': 1}\n"
     ]
    }
   ],
   "source": [
    "word_vocab = Vocab(\"words\", UNK=\"UNK\")\n",
    "label_vocab = Vocab(\"labels\")\n",
    "\n",
    "for sent, label in data:\n",
    "    label_vocab.add(label)\n",
    "    for word in sent:\n",
    "        word_vocab.add(word)\n",
    "\n",
    "print(word_vocab, word_vocab.idx2item, word_vocab.item2idx)\n",
    "print(label_vocab, label_vocab.idx2item, label_vocab.item2idx)"
   ]
  },
  {
   "cell_type": "code",
   "execution_count": 27,
   "metadata": {
    "collapsed": true
   },
   "outputs": [],
   "source": [
    "class BoWModule(nn.Module):\n",
    "    def __init__(self, input_size, output_size):\n",
    "        super(BoWModule, self).__init__()\n",
    "        self.W = nn.Linear(input_size, output_size)\n",
    "        \n",
    "    def forward(self, X):\n",
    "        return F.log_softmax(self.W(X))"
   ]
  },
  {
   "cell_type": "code",
   "execution_count": 28,
   "metadata": {
    "collapsed": true
   },
   "outputs": [],
   "source": [
    "class Seq2Vec(object):\n",
    "    def __init__(self, vocab):\n",
    "        self.vocab = vocab\n",
    "        \n",
    "    def encode(self, seq):\n",
    "        vec = []\n",
    "        for item in seq:\n",
    "            vec.append(self.vocab.getidx(item))\n",
    "        return vec\n",
    "    \n",
    "    def batch_encode(self, seq_batch):\n",
    "        vecs = [self.encode(seq) for seq in seq_batch]\n",
    "        return vecs\n",
    "        \n",
    "        \n",
    "class Seq2OneHot(object):\n",
    "    def __init__(self, size):\n",
    "        self.size = size\n",
    "    \n",
    "    def encode(self, x, as_variable=False):\n",
    "        one_hot = torch.zeros(self.size)\n",
    "        for i in x:\n",
    "            one_hot[i] += 1\n",
    "        one_hot = one_hot.view(1, -1)\n",
    "        if as_variable:\n",
    "            return Variable(one_hot)\n",
    "        return one_hot\n",
    "        "
   ]
  },
  {
   "cell_type": "code",
   "execution_count": 29,
   "metadata": {},
   "outputs": [
    {
     "name": "stdout",
     "output_type": "stream",
     "text": [
      "[[1, 2, 3, 4, 5, 6], [7, 8, 9, 1], [10, 11, 12, 13, 14, 15, 16], [10, 8, 17, 18, 19, 20, 16, 9, 21, 22, 23, 13]] [[0], [1], [0], [1]] [[0, 11, 12, 0], [8, 17, 22, 0, 1]] [[0], [1]]\n",
      "\n",
      "\n",
      "Columns 0 to 12 \n",
      "    0     1     1     1     1     1     1     0     0     0     0     0     0\n",
      "\n",
      "Columns 13 to 23 \n",
      "    0     0     0     0     0     0     0     0     0     0     0\n",
      "[torch.FloatTensor of size 1x24]\n",
      "\n"
     ]
    }
   ],
   "source": [
    "sent_encoder = Seq2Vec(word_vocab)\n",
    "\n",
    "def data2vec(data):\n",
    "    X, y = [], []\n",
    "    for sent, label in data:\n",
    "        y.append([label_vocab.getidx(label)])\n",
    "        X.append(sent_encoder.encode(sent))\n",
    "    return X, y\n",
    "\n",
    "X_train, y_train = data2vec(data)\n",
    "X_test, y_test = data2vec(test_data) \n",
    "print(X_train, y_train, X_test, y_test)\n",
    "\n",
    "\n",
    "sent_onehot_encoder = Seq2OneHot(word_vocab.size)\n",
    "print(sent_onehot_encoder.encode(X_train[0]))"
   ]
  },
  {
   "cell_type": "code",
   "execution_count": 30,
   "metadata": {},
   "outputs": [
    {
     "name": "stdout",
     "output_type": "stream",
     "text": [
      "Log probs:  Variable containing:\n",
      "-0.9682 -0.4777\n",
      "[torch.FloatTensor of size 1x2]\n",
      "\n"
     ]
    }
   ],
   "source": [
    "model = BoWModule(word_vocab.size, label_vocab.size)\n",
    "log_probs = model.forward(sent_onehot_encoder.encode(X_train[0], as_variable=True))\n",
    "print(\"Log probs: \", log_probs)"
   ]
  },
  {
   "cell_type": "code",
   "execution_count": 31,
   "metadata": {
    "collapsed": true
   },
   "outputs": [],
   "source": [
    "def print_log_probs(log_probs, label_vocab, label_true=None):\n",
    "    for i, label_probs in enumerate(log_probs.data.tolist()):\n",
    "        prob_string = \", \".join([\n",
    "            \"{}: {:.3f}\".format(label_vocab.idx2item[j], val)\n",
    "            for j, val in enumerate(label_probs)\n",
    "        ])\n",
    "        true_string = \"?\"\n",
    "        if label_true is not None:\n",
    "            true_string = label_vocab.idx2item[label_true[i]]\n",
    "            \n",
    "        print(prob_string, \"True label: \", true_string)"
   ]
  },
  {
   "cell_type": "code",
   "execution_count": 32,
   "metadata": {},
   "outputs": [
    {
     "name": "stdout",
     "output_type": "stream",
     "text": [
      "SPANISH: -0.968, ENGLISH: -0.478 True label:  ?\n"
     ]
    }
   ],
   "source": [
    "print_log_probs(log_probs, label_vocab)"
   ]
  },
  {
   "cell_type": "code",
   "execution_count": 33,
   "metadata": {},
   "outputs": [
    {
     "name": "stdout",
     "output_type": "stream",
     "text": [
      "SPANISH: -1.428, ENGLISH: -0.274 True label:  SPANISH\n",
      "SPANISH: -0.807, ENGLISH: -0.591 True label:  ENGLISH\n"
     ]
    }
   ],
   "source": [
    "for seq, label in zip(X_test, y_test):\n",
    "    log_probs = model.forward(sent_onehot_encoder.encode(seq, as_variable=True))\n",
    "    print_log_probs(log_probs, label_vocab, label_true=label)"
   ]
  },
  {
   "cell_type": "code",
   "execution_count": 34,
   "metadata": {},
   "outputs": [
    {
     "data": {
      "text/plain": [
       "Variable containing:\n",
       "-0.1235\n",
       "-0.0126\n",
       "[torch.FloatTensor of size 2]"
      ]
     },
     "execution_count": 34,
     "metadata": {},
     "output_type": "execute_result"
    }
   ],
   "source": [
    "next(model.parameters())[:, word_vocab.getidx(\"creo\")]"
   ]
  },
  {
   "cell_type": "markdown",
   "metadata": {},
   "source": [
    "## Training time"
   ]
  },
  {
   "cell_type": "code",
   "execution_count": 35,
   "metadata": {
    "collapsed": true
   },
   "outputs": [],
   "source": [
    "loss_function = nn.NLLLoss()\n",
    "optimizer = optim.SGD(model.parameters(), lr=0.1)\n",
    "\n",
    "def get_loss(loss_function, seq, label, verbose=False):\n",
    "    ## Clear gradients before every update else memory runs out\n",
    "    model.zero_grad()\n",
    "    ## Do forward pass\n",
    "    log_probs = model.forward(sent_onehot_encoder.encode(seq, as_variable=True))\n",
    "    if verbose:\n",
    "        print(log_probs)\n",
    "    ## Get labels\n",
    "    target  = Variable(torch.LongTensor(label))\n",
    "    if verbose:\n",
    "        print(target)\n",
    "    ## Get loss\n",
    "    loss = loss_function(log_probs, target)\n",
    "    if verbose:\n",
    "        print(loss)\n",
    "    return loss"
   ]
  },
  {
   "cell_type": "code",
   "execution_count": 36,
   "metadata": {},
   "outputs": [
    {
     "name": "stdout",
     "output_type": "stream",
     "text": [
      "Variable containing:\n",
      "-0.9682 -0.4777\n",
      "[torch.FloatTensor of size 1x2]\n",
      "\n",
      "Variable containing:\n",
      " 0\n",
      "[torch.LongTensor of size 1]\n",
      "\n",
      "Variable containing:\n",
      " 0.9682\n",
      "[torch.FloatTensor of size 1]\n",
      "\n"
     ]
    }
   ],
   "source": [
    "loss = get_loss(loss_function, X_train[0], y_train[0], verbose=True)"
   ]
  },
  {
   "cell_type": "code",
   "execution_count": 37,
   "metadata": {},
   "outputs": [
    {
     "data": {
      "text/plain": [
       "0.9681910276412964"
      ]
     },
     "execution_count": 37,
     "metadata": {},
     "output_type": "execute_result"
    }
   ],
   "source": [
    "loss.data[0]"
   ]
  },
  {
   "cell_type": "code",
   "execution_count": 38,
   "metadata": {},
   "outputs": [
    {
     "name": "stderr",
     "output_type": "stream",
     "text": [
      "100%|██████████| 100/100 [00:00<00:00, 263.87it/s]\n"
     ]
    }
   ],
   "source": [
    "losses = []\n",
    "for epoch in tqdm(range(100)):\n",
    "    for seq, label in zip(X_train, y_train):\n",
    "        loss = get_loss(loss_function, seq, label)\n",
    "        losses.append(loss.data[0])\n",
    "        ## Get gradients of model params wrt. loss\n",
    "        loss.backward()\n",
    "        ## Optimize the loss by one step\n",
    "        optimizer.step()"
   ]
  },
  {
   "cell_type": "code",
   "execution_count": 39,
   "metadata": {},
   "outputs": [
    {
     "data": {
      "text/plain": [
       "<matplotlib.text.Text at 0x7f12143902b0>"
      ]
     },
     "execution_count": 39,
     "metadata": {},
     "output_type": "execute_result"
    },
    {
     "name": "stderr",
     "output_type": "stream",
     "text": [
      "/home/napsternxg/anaconda3/lib/python3.5/site-packages/matplotlib/font_manager.py:1297: UserWarning: findfont: Font family ['sans-serif'] not found. Falling back to DejaVu Sans\n",
      "  (prop.get_family(), self.defaultFamily[fontext]))\n"
     ]
    },
    {
     "data": {
      "image/png": "[encoded data removed]",
      "text/plain": [
       "<matplotlib.figure.Figure at 0x7f121a66bf60>"
      ]
     },
     "metadata": {},
     "output_type": "display_data"
    }
   ],
   "source": [
    "plt.plot(losses)\n",
    "plt.xlabel(\"Step\")\n",
    "plt.ylabel(\"Loss\")"
   ]
  },
  {
   "cell_type": "code",
   "execution_count": 40,
   "metadata": {},
   "outputs": [
    {
     "name": "stdout",
     "output_type": "stream",
     "text": [
      "SPANISH: -0.307, ENGLISH: -1.331 True label:  SPANISH\n",
      "SPANISH: -3.080, ENGLISH: -0.047 True label:  ENGLISH\n"
     ]
    }
   ],
   "source": [
    "for seq, label in zip(X_test, y_test):\n",
    "    log_probs = model.forward(sent_onehot_encoder.encode(seq, as_variable=True))\n",
    "    print_log_probs(log_probs, label_vocab, label_true=label)"
   ]
  },
  {
   "cell_type": "markdown",
   "metadata": {},
   "source": [
    "## Embeddings"
   ]
  },
  {
   "cell_type": "code",
   "execution_count": 41,
   "metadata": {},
   "outputs": [
    {
     "data": {
      "text/plain": [
       "Embedding(24, 5)"
      ]
     },
     "execution_count": 41,
     "metadata": {},
     "output_type": "execute_result"
    }
   ],
   "source": [
    "word_embeddings = nn.Embedding(word_vocab.size, 5)\n",
    "word_embeddings"
   ]
  },
  {
   "cell_type": "code",
   "execution_count": 42,
   "metadata": {},
   "outputs": [
    {
     "data": {
      "text/plain": [
       "Variable containing:\n",
       "(0 ,.,.) = \n",
       " -0.3569 -0.0822  0.8388 -1.3233  0.0701\n",
       "  1.1375 -1.0246 -1.0300 -1.0129  0.0055\n",
       " -0.9347 -0.9882  1.3801 -0.1173  0.9317\n",
       " -0.3569 -0.0822  0.8388 -1.3233  0.0701\n",
       "[torch.FloatTensor of size 1x4x5]"
      ]
     },
     "execution_count": 42,
     "metadata": {},
     "output_type": "execute_result"
    }
   ],
   "source": [
    "word_embeddings(Variable(torch.LongTensor([X_test[0]])))"
   ]
  },
  {
   "cell_type": "code",
   "execution_count": 43,
   "metadata": {},
   "outputs": [
    {
     "data": {
      "text/plain": [
       "[0, 11, 12, 0]"
      ]
     },
     "execution_count": 43,
     "metadata": {},
     "output_type": "execute_result"
    }
   ],
   "source": [
    "X_test[0]"
   ]
  },
  {
   "cell_type": "code",
   "execution_count": 44,
   "metadata": {},
   "outputs": [
    {
     "data": {
      "text/plain": [
       "Variable containing:\n",
       "-0.1278 -0.5443  0.5069 -0.9442  0.2694\n",
       "[torch.FloatTensor of size 1x5]"
      ]
     },
     "execution_count": 44,
     "metadata": {},
     "output_type": "execute_result"
    }
   ],
   "source": [
    "word_embeddings(Variable(torch.LongTensor([X_test[0]]))).mean(1).view(-1, 5)"
   ]
  },
  {
   "cell_type": "code",
   "execution_count": 45,
   "metadata": {},
   "outputs": [
    {
     "data": {
      "text/plain": [
       "5"
      ]
     },
     "execution_count": 45,
     "metadata": {},
     "output_type": "execute_result"
    }
   ],
   "source": [
    "word_embeddings.embedding_dim"
   ]
  },
  {
   "cell_type": "code",
   "execution_count": 46,
   "metadata": {
    "collapsed": true
   },
   "outputs": [],
   "source": [
    "class BoEmbeddingsModule(nn.Module):\n",
    "    def __init__(self, vocab_size, embedding_size, output_size):\n",
    "        super(BoEmbeddingsModule, self).__init__()\n",
    "        self.word_embeddings = nn.Embedding(vocab_size, embedding_size)\n",
    "        self.W = nn.Linear(embedding_size, output_size)\n",
    "        \n",
    "    def forward(self, X):\n",
    "        hidden_layer = self.word_embeddings(X).mean(1).view(-1,self.word_embeddings.embedding_dim)\n",
    "        return F.log_softmax(self.W(hidden_layer))"
   ]
  },
  {
   "cell_type": "code",
   "execution_count": 47,
   "metadata": {},
   "outputs": [
    {
     "name": "stdout",
     "output_type": "stream",
     "text": [
      "Log probs:  Variable containing:\n",
      "-0.8506 -0.5571\n",
      "[torch.FloatTensor of size 1x2]\n",
      "\n"
     ]
    }
   ],
   "source": [
    "model = BoEmbeddingsModule(word_vocab.size, 5, label_vocab.size)\n",
    "log_probs = model.forward(Variable(torch.LongTensor([X_test[0]])))\n",
    "print(\"Log probs: \", log_probs)"
   ]
  },
  {
   "cell_type": "code",
   "execution_count": 48,
   "metadata": {
    "collapsed": true
   },
   "outputs": [],
   "source": [
    "loss_function = nn.NLLLoss()\n",
    "optimizer = optim.SGD(model.parameters(), lr=0.1)\n",
    "\n",
    "def get_loss_embedding(loss_function, seq, label, verbose=False):\n",
    "    ## Clear gradients before every update else memory runs out\n",
    "    model.zero_grad()\n",
    "    ## Do forward pass\n",
    "    log_probs = model.forward(Variable(torch.LongTensor([seq])))\n",
    "    if verbose:\n",
    "        print(log_probs)\n",
    "    ## Get labels\n",
    "    target  = Variable(torch.LongTensor(label))\n",
    "    if verbose:\n",
    "        print(target)\n",
    "    ## Get loss\n",
    "    loss = loss_function(log_probs, target)\n",
    "    if verbose:\n",
    "        print(loss)\n",
    "    return loss"
   ]
  },
  {
   "cell_type": "code",
   "execution_count": 49,
   "metadata": {},
   "outputs": [
    {
     "name": "stdout",
     "output_type": "stream",
     "text": [
      "Variable containing:\n",
      "-0.9180 -0.5097\n",
      "[torch.FloatTensor of size 1x2]\n",
      "\n",
      "Variable containing:\n",
      " 0\n",
      "[torch.LongTensor of size 1]\n",
      "\n",
      "Variable containing:\n",
      " 0.9180\n",
      "[torch.FloatTensor of size 1]\n",
      "\n"
     ]
    }
   ],
   "source": [
    "loss = get_loss_embedding(loss_function, X_train[0], y_train[0], verbose=True)"
   ]
  },
  {
   "cell_type": "code",
   "execution_count": 50,
   "metadata": {},
   "outputs": [
    {
     "name": "stderr",
     "output_type": "stream",
     "text": [
      "100%|██████████| 100/100 [00:00<00:00, 335.84it/s]\n"
     ]
    },
    {
     "data": {
      "text/plain": [
       "<matplotlib.text.Text at 0x7f121408a390>"
      ]
     },
     "execution_count": 50,
     "metadata": {},
     "output_type": "execute_result"
    },
    {
     "name": "stderr",
     "output_type": "stream",
     "text": [
      "/home/napsternxg/anaconda3/lib/python3.5/site-packages/matplotlib/font_manager.py:1297: UserWarning: findfont: Font family ['sans-serif'] not found. Falling back to DejaVu Sans\n",
      "  (prop.get_family(), self.defaultFamily[fontext]))\n"
     ]
    },
    {
     "data": {
      "image/png": "[encoded data removed]",
      "text/plain": [
       "<matplotlib.figure.Figure at 0x7f1219f90c18>"
      ]
     },
     "metadata": {},
     "output_type": "display_data"
    }
   ],
   "source": [
    "losses = []\n",
    "for epoch in tqdm(range(100)):\n",
    "    for seq, label in zip(X_train, y_train):\n",
    "        loss = get_loss_embedding(loss_function, seq, label)\n",
    "        losses.append(loss.data[0])\n",
    "        ## Get gradients of model params wrt. loss\n",
    "        loss.backward()\n",
    "        ## Optimize the loss by one step\n",
    "        optimizer.step()\n",
    "        \n",
    "plt.plot(losses)\n",
    "plt.xlabel(\"Step\")\n",
    "plt.ylabel(\"Loss\")        "
   ]
  },
  {
   "cell_type": "markdown",
   "metadata": {},
   "source": [
    "## LSTM"
   ]
  },
  {
   "cell_type": "code",
   "execution_count": 51,
   "metadata": {},
   "outputs": [
    {
     "data": {
      "text/plain": [
       "Variable containing:\n",
       "(0 ,.,.) = \n",
       " -0.3569 -0.0822  0.8388 -1.3233  0.0701\n",
       "  1.1375 -1.0246 -1.0300 -1.0129  0.0055\n",
       " -0.9347 -0.9882  1.3801 -0.1173  0.9317\n",
       " -0.3569 -0.0822  0.8388 -1.3233  0.0701\n",
       "[torch.FloatTensor of size 1x4x5]"
      ]
     },
     "execution_count": 51,
     "metadata": {},
     "output_type": "execute_result"
    }
   ],
   "source": [
    "word_embeddings(Variable(torch.LongTensor([X_test[0]])))"
   ]
  },
  {
   "cell_type": "code",
   "execution_count": 52,
   "metadata": {},
   "outputs": [
    {
     "data": {
      "text/plain": [
       "Variable containing:\n",
       "(0 ,.,.) = \n",
       " -0.3569 -0.0822  0.8388 -1.3233  0.0701\n",
       "\n",
       "(1 ,.,.) = \n",
       "  1.1375 -1.0246 -1.0300 -1.0129  0.0055\n",
       "\n",
       "(2 ,.,.) = \n",
       " -0.9347 -0.9882  1.3801 -0.1173  0.9317\n",
       "\n",
       "(3 ,.,.) = \n",
       " -0.3569 -0.0822  0.8388 -1.3233  0.0701\n",
       "[torch.FloatTensor of size 4x1x5]"
      ]
     },
     "execution_count": 52,
     "metadata": {},
     "output_type": "execute_result"
    }
   ],
   "source": [
    "word_embeddings(Variable(torch.LongTensor([X_test[0]]))).permute(1, 0, 2)"
   ]
  },
  {
   "cell_type": "code",
   "execution_count": 53,
   "metadata": {
    "collapsed": true
   },
   "outputs": [],
   "source": [
    "lstm = nn.LSTM(5,2)\n",
    "input_units = word_embeddings(Variable(torch.LongTensor([X_test[0]]))).permute(1, 0, 2)\n",
    "hidden_units = (Variable(torch.randn(1,1,2)), Variable(torch.randn((1,1,2))))"
   ]
  },
  {
   "cell_type": "code",
   "execution_count": 54,
   "metadata": {},
   "outputs": [
    {
     "data": {
      "text/plain": [
       "LSTM(5, 2)"
      ]
     },
     "execution_count": 54,
     "metadata": {},
     "output_type": "execute_result"
    }
   ],
   "source": [
    "lstm"
   ]
  },
  {
   "cell_type": "code",
   "execution_count": 55,
   "metadata": {},
   "outputs": [
    {
     "data": {
      "text/plain": [
       "Variable containing:\n",
       "(0 ,.,.) = \n",
       " -0.3569 -0.0822  0.8388 -1.3233  0.0701\n",
       "\n",
       "(1 ,.,.) = \n",
       "  1.1375 -1.0246 -1.0300 -1.0129  0.0055\n",
       "\n",
       "(2 ,.,.) = \n",
       " -0.9347 -0.9882  1.3801 -0.1173  0.9317\n",
       "\n",
       "(3 ,.,.) = \n",
       " -0.3569 -0.0822  0.8388 -1.3233  0.0701\n",
       "[torch.FloatTensor of size 4x1x5]"
      ]
     },
     "execution_count": 55,
     "metadata": {},
     "output_type": "execute_result"
    }
   ],
   "source": [
    "input_units"
   ]
  },
  {
   "cell_type": "code",
   "execution_count": 56,
   "metadata": {},
   "outputs": [
    {
     "data": {
      "text/plain": [
       "(Variable containing:\n",
       " (0 ,.,.) = \n",
       "  -0.2699 -0.1599\n",
       " [torch.FloatTensor of size 1x1x2], Variable containing:\n",
       " (0 ,.,.) = \n",
       "  -0.0057  1.0992\n",
       " [torch.FloatTensor of size 1x1x2])"
      ]
     },
     "execution_count": 56,
     "metadata": {},
     "output_type": "execute_result"
    }
   ],
   "source": [
    "hidden_units"
   ]
  },
  {
   "cell_type": "code",
   "execution_count": 57,
   "metadata": {},
   "outputs": [
    {
     "data": {
      "text/plain": [
       "Variable containing:\n",
       "(0 ,.,.) = \n",
       " -0.3569 -0.0822  0.8388 -1.3233  0.0701\n",
       "[torch.FloatTensor of size 1x1x5]"
      ]
     },
     "execution_count": 57,
     "metadata": {},
     "output_type": "execute_result"
    }
   ],
   "source": [
    "input_units[:1, :, :]"
   ]
  },
  {
   "cell_type": "code",
   "execution_count": 58,
   "metadata": {},
   "outputs": [
    {
     "data": {
      "text/plain": [
       "Variable containing:\n",
       "(0 ,.,.) = \n",
       "  0.1496  2.4154 -0.8190  0.4201 -0.7981\n",
       "[torch.FloatTensor of size 1x1x5]"
      ]
     },
     "execution_count": 58,
     "metadata": {},
     "output_type": "execute_result"
    }
   ],
   "source": [
    "Variable(torch.randn((1,5))).view(1,1,-1)"
   ]
  },
  {
   "cell_type": "code",
   "execution_count": 59,
   "metadata": {},
   "outputs": [
    {
     "data": {
      "text/plain": [
       "(Variable containing:\n",
       " (0 ,.,.) = \n",
       "  -0.0864  0.1397\n",
       " [torch.FloatTensor of size 1x1x2], (Variable containing:\n",
       "  (0 ,.,.) = \n",
       "   -0.0864  0.1397\n",
       "  [torch.FloatTensor of size 1x1x2], Variable containing:\n",
       "  (0 ,.,.) = \n",
       "   -0.2551  0.2165\n",
       "  [torch.FloatTensor of size 1x1x2]))"
      ]
     },
     "execution_count": 59,
     "metadata": {},
     "output_type": "execute_result"
    }
   ],
   "source": [
    "lstm(input_units[:1, :, :], hidden_units)"
   ]
  },
  {
   "cell_type": "code",
   "execution_count": 60,
   "metadata": {},
   "outputs": [
    {
     "data": {
      "text/plain": [
       "(Variable containing:\n",
       " (0 ,.,.) = \n",
       "  -0.0864  0.1397\n",
       " \n",
       " (1 ,.,.) = \n",
       "   0.1784 -0.0851\n",
       " \n",
       " (2 ,.,.) = \n",
       "  -0.1222 -0.2234\n",
       " \n",
       " (3 ,.,.) = \n",
       "  -0.1724 -0.3081\n",
       " [torch.FloatTensor of size 4x1x2], (Variable containing:\n",
       "  (0 ,.,.) = \n",
       "   -0.1724 -0.3081\n",
       "  [torch.FloatTensor of size 1x1x2], Variable containing:\n",
       "  (0 ,.,.) = \n",
       "   -0.5355 -0.4977\n",
       "  [torch.FloatTensor of size 1x1x2]))"
      ]
     },
     "execution_count": 60,
     "metadata": {},
     "output_type": "execute_result"
    }
   ],
   "source": [
    "lstm(input_units, hidden_units)"
   ]
  },
  {
   "cell_type": "code",
   "execution_count": 61,
   "metadata": {},
   "outputs": [
    {
     "data": {
      "text/plain": [
       "(Variable containing:\n",
       " (0 ,.,.) = \n",
       "  -0.0864  0.1397\n",
       " \n",
       " (1 ,.,.) = \n",
       "   0.1784 -0.0851\n",
       " \n",
       " (2 ,.,.) = \n",
       "  -0.1222 -0.2234\n",
       " \n",
       " (3 ,.,.) = \n",
       "  -0.1724 -0.3081\n",
       " [torch.FloatTensor of size 4x1x2], (Variable containing:\n",
       "  (0 ,.,.) = \n",
       "   -0.1724 -0.3081\n",
       "  [torch.FloatTensor of size 1x1x2], Variable containing:\n",
       "  (0 ,.,.) = \n",
       "   -0.5355 -0.4977\n",
       "  [torch.FloatTensor of size 1x1x2]))"
      ]
     },
     "execution_count": 61,
     "metadata": {},
     "output_type": "execute_result"
    }
   ],
   "source": [
    "out, hidden = lstm(input_units, hidden_units)\n",
    "out, hidden"
   ]
  },
  {
   "cell_type": "code",
   "execution_count": 62,
   "metadata": {},
   "outputs": [
    {
     "data": {
      "text/plain": [
       "Variable containing:\n",
       "-0.1724 -0.3081\n",
       "[torch.FloatTensor of size 1x2]"
      ]
     },
     "execution_count": 62,
     "metadata": {},
     "output_type": "execute_result"
    }
   ],
   "source": [
    "out[-1, :, :]"
   ]
  },
  {
   "cell_type": "code",
   "execution_count": 63,
   "metadata": {},
   "outputs": [
    {
     "data": {
      "text/plain": [
       "Variable containing:\n",
       "-0.6276 -0.7633\n",
       "[torch.FloatTensor of size 1x2]"
      ]
     },
     "execution_count": 63,
     "metadata": {},
     "output_type": "execute_result"
    }
   ],
   "source": [
    "F.log_softmax(out[-1, :, :])"
   ]
  },
  {
   "cell_type": "code",
   "execution_count": 64,
   "metadata": {
    "collapsed": true
   },
   "outputs": [],
   "source": [
    "class LSTMPredictor(nn.Module):\n",
    "    def __init__(self, vocab_size, embedding_size, hidden_size, output_size):\n",
    "        super(LSTMPredictor, self).__init__()\n",
    "        self.word_embeddings = nn.Embedding(vocab_size, embedding_size)\n",
    "        self.lstm = nn.LSTM(embedding_size, hidden_size)\n",
    "        self.output = nn.Linear(hidden_size, output_size)\n",
    "        \n",
    "    def forward(self, X):\n",
    "        seq_embed = self.word_embeddings(X).permute(1, 0, 2)\n",
    "        out, hidden = self.lstm(seq_embed)\n",
    "        output = self.output(out[-1, :, :])\n",
    "        return F.log_softmax(output)"
   ]
  },
  {
   "cell_type": "code",
   "execution_count": 65,
   "metadata": {},
   "outputs": [
    {
     "name": "stdout",
     "output_type": "stream",
     "text": [
      "Log probs:  Variable containing:\n",
      "-0.7077 -0.6788\n",
      "[torch.FloatTensor of size 1x2]\n",
      "\n"
     ]
    }
   ],
   "source": [
    "model = LSTMPredictor(word_vocab.size, 5, 3, label_vocab.size)\n",
    "log_probs = model.forward(Variable(torch.LongTensor([X_test[0]])))\n",
    "print(\"Log probs: \", log_probs)"
   ]
  },
  {
   "cell_type": "code",
   "execution_count": 66,
   "metadata": {
    "collapsed": true
   },
   "outputs": [],
   "source": [
    "loss_function = nn.NLLLoss()\n",
    "optimizer = optim.SGD(model.parameters(), lr=0.1)\n",
    "\n",
    "def get_loss_embedding_lstm(model, loss_function, seq, label, verbose=False):\n",
    "    ## Clear gradients before every update else memory runs out\n",
    "    model.zero_grad()\n",
    "    ## Do forward pass\n",
    "    log_probs = model.forward(Variable(torch.LongTensor([seq])))\n",
    "    if verbose:\n",
    "        print(log_probs)\n",
    "    ## Get labels\n",
    "    target  = Variable(torch.LongTensor(label))\n",
    "    if verbose:\n",
    "        print(target)\n",
    "    ## Get loss\n",
    "    loss = loss_function(log_probs, target)\n",
    "    if verbose:\n",
    "        print(loss)\n",
    "    return loss"
   ]
  },
  {
   "cell_type": "code",
   "execution_count": 67,
   "metadata": {},
   "outputs": [
    {
     "name": "stdout",
     "output_type": "stream",
     "text": [
      "Variable containing:\n",
      "-0.4848 -0.9566\n",
      "[torch.FloatTensor of size 1x2]\n",
      "\n",
      "Variable containing:\n",
      " 0\n",
      "[torch.LongTensor of size 1]\n",
      "\n",
      "Variable containing:\n",
      " 0.4848\n",
      "[torch.FloatTensor of size 1]\n",
      "\n"
     ]
    }
   ],
   "source": [
    "loss = get_loss_embedding_lstm(model, loss_function, X_train[0], y_train[0], verbose=True)"
   ]
  },
  {
   "cell_type": "code",
   "execution_count": 68,
   "metadata": {},
   "outputs": [
    {
     "name": "stderr",
     "output_type": "stream",
     "text": [
      "100%|██████████| 100/100 [00:01<00:00, 73.65it/s]\n"
     ]
    },
    {
     "data": {
      "text/plain": [
       "<matplotlib.text.Text at 0x7f121424f860>"
      ]
     },
     "execution_count": 68,
     "metadata": {},
     "output_type": "execute_result"
    },
    {
     "name": "stderr",
     "output_type": "stream",
     "text": [
      "/home/napsternxg/anaconda3/lib/python3.5/site-packages/matplotlib/font_manager.py:1297: UserWarning: findfont: Font family ['sans-serif'] not found. Falling back to DejaVu Sans\n",
      "  (prop.get_family(), self.defaultFamily[fontext]))\n"
     ]
    },
    {
     "data": {
      "image/png": "[encoded data removed]",
      "text/plain": [
       "<matplotlib.figure.Figure at 0x7f12143377b8>"
      ]
     },
     "metadata": {},
     "output_type": "display_data"
    }
   ],
   "source": [
    "losses = []\n",
    "for epoch in tqdm(range(100)):\n",
    "    for seq, label in zip(X_train, y_train):\n",
    "        loss = get_loss_embedding_lstm(model, loss_function, seq, label)\n",
    "        losses.append(loss.data[0])\n",
    "        ## Get gradients of model params wrt. loss\n",
    "        loss.backward()\n",
    "        ## Optimize the loss by one step\n",
    "        optimizer.step()\n",
    "        \n",
    "plt.plot(losses)\n",
    "plt.xlabel(\"Step\")\n",
    "plt.ylabel(\"Loss\")"
   ]
  },
  {
   "cell_type": "markdown",
   "metadata": {},
   "source": [
    "## POS Tagger"
   ]
  },
  {
   "cell_type": "code",
   "execution_count": 69,
   "metadata": {
    "collapsed": true
   },
   "outputs": [],
   "source": [
    "training_data = [\n",
    "    (\"The dog ate the apple\".split(), [\"DET\", \"NN\", \"V\", \"DET\", \"NN\"]),\n",
    "    (\"Everybody read that book\".split(), [\"NN\", \"V\", \"DET\", \"NN\"])\n",
    "]"
   ]
  },
  {
   "cell_type": "code",
   "execution_count": 70,
   "metadata": {},
   "outputs": [
    {
     "name": "stdout",
     "output_type": "stream",
     "text": [
      "Vocab(name=words, size=10, UNK=UNK, offset=1) ['UNK', 'The', 'dog', 'ate', 'the', 'apple', 'Everybody', 'read', 'that', 'book'] {'Everybody': 6, 'book': 9, 'dog': 2, 'read': 7, 'the': 4, 'UNK': 0, 'that': 8, 'The': 1, 'apple': 5, 'ate': 3}\n",
      "Vocab(name=pos_tags, size=3, UNK=None, offset=0) ['DET', 'NN', 'V'] {'DET': 0, 'NN': 1, 'V': 2}\n"
     ]
    }
   ],
   "source": [
    "word_vocab = Vocab(\"words\", UNK=\"UNK\")\n",
    "pos_vocab = Vocab(\"pos_tags\")\n",
    "\n",
    "for sent, pos_tags in training_data:\n",
    "    for word, pos in zip(sent, pos_tags):\n",
    "        word_vocab.add(word)\n",
    "        pos_vocab.add(pos)\n",
    "\n",
    "print(word_vocab, word_vocab.idx2item, word_vocab.item2idx)\n",
    "print(pos_vocab, pos_vocab.idx2item, pos_vocab.item2idx)"
   ]
  },
  {
   "cell_type": "code",
   "execution_count": 71,
   "metadata": {},
   "outputs": [
    {
     "name": "stdout",
     "output_type": "stream",
     "text": [
      "[[1, 2, 3, 4, 5], [6, 7, 8, 9]] [[0, 1, 2, 0, 1], [1, 2, 0, 1]]\n"
     ]
    }
   ],
   "source": [
    "sent_encoder = Seq2Vec(word_vocab)\n",
    "pos_encoder = Seq2Vec(pos_vocab)\n",
    "\n",
    "def dataseq2vec(data):\n",
    "    X, Y = [], []\n",
    "    for sent, tags in data:\n",
    "        X.append(sent_encoder.encode(sent))\n",
    "        Y.append(pos_encoder.encode(tags))\n",
    "    return X, Y\n",
    "\n",
    "X_train, Y_train = dataseq2vec(training_data)\n",
    "print(X_train, Y_train)"
   ]
  },
  {
   "cell_type": "code",
   "execution_count": 72,
   "metadata": {
    "collapsed": true
   },
   "outputs": [],
   "source": [
    "class LSTMTagger(nn.Module):\n",
    "    def __init__(self, vocab_size, embedding_size, hidden_size, output_size):\n",
    "        super(LSTMTagger, self).__init__()\n",
    "        self.word_embeddings = nn.Embedding(vocab_size, embedding_size)\n",
    "        self.lstm = nn.LSTM(embedding_size, hidden_size)\n",
    "        self.output = nn.Linear(hidden_size, output_size)\n",
    "        \n",
    "    def forward(self, X):\n",
    "        seq_embed = self.word_embeddings(X).permute(1, 0, 2)\n",
    "        out, hidden = self.lstm(seq_embed)\n",
    "        # Reshape the output to be a tensor of shape seq_len*label_size\n",
    "        output = self.output(out.view(X.data.size(1), -1))\n",
    "        return F.log_softmax(output)"
   ]
  },
  {
   "cell_type": "code",
   "execution_count": 73,
   "metadata": {},
   "outputs": [
    {
     "data": {
      "text/plain": [
       "Vocab(name=words, size=10, UNK=UNK, offset=1)"
      ]
     },
     "execution_count": 73,
     "metadata": {},
     "output_type": "execute_result"
    }
   ],
   "source": [
    "word_vocab"
   ]
  },
  {
   "cell_type": "code",
   "execution_count": 74,
   "metadata": {},
   "outputs": [
    {
     "name": "stdout",
     "output_type": "stream",
     "text": [
      "Log probs:  Variable containing:\n",
      "-0.8773 -0.9818 -1.5632\n",
      "-0.8260 -1.0724 -1.5140\n",
      "-0.8364 -1.0424 -1.5412\n",
      "-0.8753 -1.0138 -1.5123\n",
      "-0.8187 -1.1284 -1.4462\n",
      "[torch.FloatTensor of size 5x3]\n",
      "\n"
     ]
    }
   ],
   "source": [
    "model = LSTMTagger(word_vocab.size, 5, 3, pos_vocab.size)\n",
    "log_probs = model.forward(Variable(torch.LongTensor([X_train[0]])))\n",
    "print(\"Log probs: \", log_probs)"
   ]
  },
  {
   "cell_type": "code",
   "execution_count": 75,
   "metadata": {
    "collapsed": true
   },
   "outputs": [],
   "source": [
    "loss_function = nn.NLLLoss()\n",
    "optimizer = optim.SGD(model.parameters(), lr=0.1)\n",
    "\n",
    "def get_loss_embedding_lstm_tagger(model, loss_function, seq, label, verbose=False):\n",
    "    ## Clear gradients before every update else memory runs out\n",
    "    model.zero_grad()\n",
    "    ## Do forward pass\n",
    "    log_probs = model.forward(Variable(torch.LongTensor([seq])))\n",
    "    if verbose:\n",
    "        print(log_probs)\n",
    "    ## Get labels\n",
    "    target  = Variable(torch.LongTensor(label))\n",
    "    if verbose:\n",
    "        print(target)\n",
    "    ## Get loss\n",
    "    loss = loss_function(log_probs, target)\n",
    "    if verbose:\n",
    "        print(loss)\n",
    "    return loss"
   ]
  },
  {
   "cell_type": "code",
   "execution_count": 76,
   "metadata": {},
   "outputs": [
    {
     "name": "stdout",
     "output_type": "stream",
     "text": [
      "Variable containing:\n",
      "-0.8773 -0.9818 -1.5632\n",
      "-0.8260 -1.0724 -1.5140\n",
      "-0.8364 -1.0424 -1.5412\n",
      "-0.8753 -1.0138 -1.5123\n",
      "-0.8187 -1.1284 -1.4462\n",
      "[torch.FloatTensor of size 5x3]\n",
      "\n",
      "Variable containing:\n",
      " 0\n",
      " 1\n",
      " 2\n",
      " 0\n",
      " 1\n",
      "[torch.LongTensor of size 5]\n",
      "\n",
      "Variable containing:\n",
      " 1.0989\n",
      "[torch.FloatTensor of size 1]\n",
      "\n"
     ]
    }
   ],
   "source": [
    "loss = get_loss_embedding_lstm_tagger(model, loss_function, X_train[0], Y_train[0], verbose=True)"
   ]
  },
  {
   "cell_type": "code",
   "execution_count": 77,
   "metadata": {},
   "outputs": [
    {
     "name": "stderr",
     "output_type": "stream",
     "text": [
      "100%|██████████| 100/100 [00:00<00:00, 178.26it/s]\n"
     ]
    },
    {
     "data": {
      "text/plain": [
       "<matplotlib.text.Text at 0x7f12141bf668>"
      ]
     },
     "execution_count": 77,
     "metadata": {},
     "output_type": "execute_result"
    },
    {
     "name": "stderr",
     "output_type": "stream",
     "text": [
      "/home/napsternxg/anaconda3/lib/python3.5/site-packages/matplotlib/font_manager.py:1297: UserWarning: findfont: Font family ['sans-serif'] not found. Falling back to DejaVu Sans\n",
      "  (prop.get_family(), self.defaultFamily[fontext]))\n"
     ]
    },
    {
     "data": {
      "image/png": "[encoded data removed]",
      "text/plain": [
       "<matplotlib.figure.Figure at 0x7f12142c5940>"
      ]
     },
     "metadata": {},
     "output_type": "display_data"
    }
   ],
   "source": [
    "losses = []\n",
    "for epoch in tqdm(range(100)):\n",
    "    for seq, label in zip(X_train, Y_train):\n",
    "        loss = get_loss_embedding_lstm_tagger(model, loss_function, seq, label)\n",
    "        losses.append(loss.data[0])\n",
    "        ## Get gradients of model params wrt. loss\n",
    "        loss.backward()\n",
    "        ## Optimize the loss by one step\n",
    "        optimizer.step()\n",
    "        \n",
    "plt.plot(losses)\n",
    "plt.xlabel(\"Step\")\n",
    "plt.ylabel(\"Loss\")"
   ]
  },
  {
   "cell_type": "markdown",
   "metadata": {},
   "source": [
    "## Char embeddings + Word embeddings"
   ]
  },
  {
   "cell_type": "code",
   "execution_count": 78,
   "metadata": {},
   "outputs": [
    {
     "name": "stdout",
     "output_type": "stream",
     "text": [
      "Vocab(name=words, size=10, UNK=UNK, offset=1) ['UNK', 'The', 'dog', 'ate', 'the', 'apple', 'Everybody', 'read', 'that', 'book'] {'Everybody': 6, 'book': 9, 'dog': 2, 'read': 7, 'the': 4, 'UNK': 0, 'that': 8, 'The': 1, 'apple': 5, 'ate': 3}\n",
      "Vocab(name=chars, size=17, UNK=<U>, offset=1) ['<U>', 'T', 'h', 'e', 'd', 'o', 'g', 'a', 't', 'p', 'l', 'E', 'v', 'r', 'y', 'b', 'k'] {'o': 5, 'd': 4, '<U>': 0, 'r': 13, 'v': 12, 'b': 15, 't': 8, 'a': 7, 'y': 14, 'l': 10, 'k': 16, 'e': 3, 'g': 6, 'p': 9, 'T': 1, 'h': 2, 'E': 11}\n",
      "Vocab(name=pos_tags, size=3, UNK=None, offset=0) ['DET', 'NN', 'V'] {'DET': 0, 'NN': 1, 'V': 2}\n"
     ]
    }
   ],
   "source": [
    "word_vocab = Vocab(\"words\", UNK=\"UNK\")\n",
    "char_vocab = Vocab(\"chars\", UNK=\"<U>\")\n",
    "pos_vocab = Vocab(\"pos_tags\")\n",
    "\n",
    "for sent, pos_tags in training_data:\n",
    "    for word, pos in zip(sent, pos_tags):\n",
    "        word_vocab.add(word)\n",
    "        pos_vocab.add(pos)\n",
    "        char_vocab.batch_add(word)\n",
    "\n",
    "print(word_vocab, word_vocab.idx2item, word_vocab.item2idx)\n",
    "print(char_vocab, char_vocab.idx2item, char_vocab.item2idx)\n",
    "print(pos_vocab, pos_vocab.idx2item, pos_vocab.item2idx)"
   ]
  },
  {
   "cell_type": "code",
   "execution_count": 79,
   "metadata": {},
   "outputs": [
    {
     "name": "stdout",
     "output_type": "stream",
     "text": [
      "[[1, 2, 3, 4, 5], [6, 7, 8, 9]] [[[1, 2, 3], [4, 5, 6], [7, 8, 3], [8, 2, 3], [7, 9, 9, 10, 3]], [[11, 12, 3, 13, 14, 15, 5, 4, 14], [13, 3, 7, 4], [8, 2, 7, 8], [15, 5, 5, 16]]] [[0, 1, 2, 0, 1], [1, 2, 0, 1]]\n"
     ]
    }
   ],
   "source": [
    "sent_encoder = Seq2Vec(word_vocab)\n",
    "char_encoder = Seq2Vec(char_vocab)\n",
    "pos_encoder = Seq2Vec(pos_vocab)\n",
    "\n",
    "def dataseqchar2vec(data):\n",
    "    X, X_char, Y = [], [], []\n",
    "    for sent, tags in data:\n",
    "        X.append(sent_encoder.encode(sent))\n",
    "        X_char.append(char_encoder.batch_encode(sent))\n",
    "        Y.append(pos_encoder.encode(tags))\n",
    "    return X, X_char, Y\n",
    "\n",
    "X_train, X_char_train, Y_train = dataseqchar2vec(training_data)\n",
    "print(X_train, X_char_train, Y_train)"
   ]
  },
  {
   "cell_type": "code",
   "execution_count": 80,
   "metadata": {
    "collapsed": true
   },
   "outputs": [],
   "source": [
    "class CharEmbedding(nn.Module):\n",
    "    def __init__(self, vocab_size, embedding_size,\n",
    "                 out_channels, kernel_sizes, dropout=0.5):\n",
    "        super(CharEmbedding, self).__init__()\n",
    "        self.char_embeddings = nn.Embedding(vocab_size, embedding_size)\n",
    "        self.convs1 = [nn.Conv2d(1, out_channels, (K, embedding_size)) \n",
    "                       for K in kernel_sizes]\n",
    "        self.dropout = nn.Dropout(dropout)\n",
    "        \n",
    "    def forward(self, X):\n",
    "        x = self.char_embeddings(X)\n",
    "        # Ref: https://github.com/Shawn1993/cnn-text-classification-pytorch/blob/master/model.py\n",
    "        x = x.unsqueeze(1) # (N,Ci,W,D)\n",
    "        x = [F.relu(conv(x)).squeeze(3) for conv in self.convs1] #[(N,Co,W), ...]*len(Ks)\n",
    "        x = [F.max_pool1d(self.dropout(i), i.size(2)).squeeze(2) for i in x] #[(N,Co), ...]*len(Ks)\n",
    "        x = torch.cat(x, 1)\n",
    "        \n",
    "        return self.dropout(x)"
   ]
  },
  {
   "cell_type": "code",
   "execution_count": 81,
   "metadata": {},
   "outputs": [
    {
     "data": {
      "text/plain": [
       "[7, 8, 3]"
      ]
     },
     "execution_count": 81,
     "metadata": {},
     "output_type": "execute_result"
    }
   ],
   "source": [
    "X_char_train[0][2]"
   ]
  },
  {
   "cell_type": "code",
   "execution_count": 82,
   "metadata": {},
   "outputs": [
    {
     "data": {
      "text/plain": [
       "Variable containing:\n",
       " 2.7443  0.0000  0.0000  0.0000  0.0000  0.0000  0.0000  0.6250\n",
       "[torch.FloatTensor of size 1x8]"
      ]
     },
     "execution_count": 82,
     "metadata": {},
     "output_type": "execute_result"
    }
   ],
   "source": [
    "char_embedding = CharEmbedding(char_vocab.size, 5, 4, [2, 3])\n",
    "char_embedding(Variable(torch.LongTensor([X_char_train[0][2]])))"
   ]
  },
  {
   "cell_type": "code",
   "execution_count": 83,
   "metadata": {},
   "outputs": [
    {
     "data": {
      "text/plain": [
       "Variable containing:\n",
       "(0 ,.,.) = \n",
       "  0.0000  0.0000  0.0000  0.0000  2.4643  0.0000  0.0000  0.0000\n",
       "  0.0000  0.0000  0.0000  2.9619  0.0000  0.0000  0.0000  0.0000\n",
       "  0.0000  0.0000  0.0000  0.0000  0.0000  0.0000  5.5457  0.0000\n",
       "  0.0000  0.0000  0.0000  0.0000  0.0000  0.0000  0.0000  0.5848\n",
       "  2.9610  0.0000  1.0892  4.7171  2.7581  0.0000  5.3865  4.0242\n",
       "[torch.FloatTensor of size 1x5x8]"
      ]
     },
     "execution_count": 83,
     "metadata": {},
     "output_type": "execute_result"
    }
   ],
   "source": [
    "torch.cat([\n",
    "    char_embedding(Variable(torch.LongTensor([x]))).unsqueeze(0)\n",
    "    for x in X_char_train[0]\n",
    "          ], 1)"
   ]
  },
  {
   "cell_type": "code",
   "execution_count": 84,
   "metadata": {
    "collapsed": true
   },
   "outputs": [],
   "source": [
    "class WordCharEmbedding(nn.Module):\n",
    "    def __init__(self, vocab_size, embedding_size,\n",
    "                 char_embedding_model, dropout=0.5):\n",
    "        super(WordCharEmbedding, self).__init__()\n",
    "        self.char_embeddings = char_embedding_model\n",
    "        self.word_embeddings = nn.Embedding(vocab_size, embedding_size)\n",
    "        self.dropout = nn.Dropout(dropout)\n",
    "        \n",
    "    def forward(self, X, X_char=None):\n",
    "        # Ref: https://github.com/Shawn1993/cnn-text-classification-pytorch/blob/master/model.py\n",
    "        word_vecs = self.word_embeddings(X)\n",
    "        if X_char is not None:\n",
    "            char_vecs = torch.cat([\n",
    "                self.char_embeddings(x).unsqueeze(0)\n",
    "                for x in X_char\n",
    "            ], 1)\n",
    "            word_vecs = char_vecs + word_vecs\n",
    "        return self.dropout(word_vecs)"
   ]
  },
  {
   "cell_type": "code",
   "execution_count": 85,
   "metadata": {},
   "outputs": [
    {
     "data": {
      "text/plain": [
       "Variable containing:\n",
       " 1\n",
       " 2\n",
       " 3\n",
       " 4\n",
       " 5\n",
       "[torch.FloatTensor of size 5]"
      ]
     },
     "execution_count": 85,
     "metadata": {},
     "output_type": "execute_result"
    }
   ],
   "source": [
    "Variable(torch.Tensor(X_train[0]))"
   ]
  },
  {
   "cell_type": "code",
   "execution_count": 86,
   "metadata": {
    "collapsed": true
   },
   "outputs": [],
   "source": [
    "def charseq2varlist(X_chars):\n",
    "    return [Variable(torch.LongTensor([x])) for x in X_chars]"
   ]
  },
  {
   "cell_type": "code",
   "execution_count": 87,
   "metadata": {},
   "outputs": [
    {
     "data": {
      "text/plain": [
       "Variable containing:\n",
       "(0 ,.,.) = \n",
       "  5.8556  1.2501  1.5115  0.3571  1.3092  1.2664 -0.7241 -0.2907\n",
       " -0.1620 -0.3580 -0.1261 -0.3806  1.0674  0.5853 -0.9918 -1.2741\n",
       "  0.5484  0.4085 -0.2132 -0.0653 -0.2304 -0.3716  0.0516  0.6814\n",
       "  0.6918  1.7022 -0.2582  0.5488  0.8628  0.6860  2.2349 -1.1200\n",
       "  1.6643 -0.8964  6.1735  3.5807  0.7116  1.0542  3.0053  0.1171\n",
       "[torch.FloatTensor of size 1x5x8]"
      ]
     },
     "execution_count": 87,
     "metadata": {},
     "output_type": "execute_result"
    }
   ],
   "source": [
    "word_char_embedding = WordCharEmbedding(word_vocab.size, 8, char_embedding, dropout=0)\n",
    "word_char_embedding(Variable(torch.LongTensor([X_train[0]])), charseq2varlist(X_char_train[0]))"
   ]
  },
  {
   "cell_type": "code",
   "execution_count": 88,
   "metadata": {
    "collapsed": true
   },
   "outputs": [],
   "source": [
    "class LSTMTaggerWordChar(nn.Module):\n",
    "    def __init__(self, word_char_embedding, embedding_size, hidden_size, output_size):\n",
    "        super(LSTMTaggerWordChar, self).__init__()\n",
    "        self.word_embeddings = word_char_embedding\n",
    "        self.lstm = nn.LSTM(embedding_size, hidden_size//2, bidirectional=True)\n",
    "        self.output = nn.Linear(hidden_size, output_size)\n",
    "        \n",
    "    def forward(self, X, X_char):\n",
    "        seq_embed = self.word_embeddings(X, X_char).permute(1, 0, 2)\n",
    "        out, hidden = self.lstm(seq_embed)\n",
    "        # Reshape the output to be a tensor of shape seq_len*label_size\n",
    "        output = self.output(out.view(X.data.size(1), -1))\n",
    "        return F.log_softmax(output)"
   ]
  },
  {
   "cell_type": "code",
   "execution_count": 89,
   "metadata": {},
   "outputs": [
    {
     "name": "stdout",
     "output_type": "stream",
     "text": [
      "Log probs:  Variable containing:\n",
      "-0.9419 -1.4267 -0.9942\n",
      "-0.9549 -1.4888 -0.9428\n",
      "-0.9090 -1.4640 -1.0058\n",
      "-0.9294 -1.4696 -0.9803\n",
      "-0.8702 -1.5029 -1.0254\n",
      "[torch.FloatTensor of size 5x3]\n",
      "\n"
     ]
    }
   ],
   "source": [
    "model = LSTMTaggerWordChar(word_char_embedding, 8, 4, pos_vocab.size)\n",
    "log_probs = model.forward(Variable(torch.LongTensor([X_train[0]])), charseq2varlist(X_char_train[0]))\n",
    "print(\"Log probs: \", log_probs)"
   ]
  },
  {
   "cell_type": "code",
   "execution_count": 90,
   "metadata": {
    "collapsed": true
   },
   "outputs": [],
   "source": [
    "loss_function = nn.NLLLoss()\n",
    "optimizer = optim.SGD(model.parameters(), lr=0.1)\n",
    "\n",
    "def get_loss_embedding_lstm_tagger_word_char(model, loss_function, seq, seq_char, label, verbose=False):\n",
    "    ## Clear gradients before every update else memory runs out\n",
    "    model.zero_grad()\n",
    "    ## Do forward pass\n",
    "    log_probs = model.forward(Variable(torch.LongTensor([seq])),\n",
    "                              charseq2varlist(seq_char))\n",
    "    if verbose:\n",
    "        print(log_probs)\n",
    "    ## Get labels\n",
    "    target  = Variable(torch.LongTensor(label))\n",
    "    if verbose:\n",
    "        print(target)\n",
    "    ## Get loss\n",
    "    loss = loss_function(log_probs, target)\n",
    "    if verbose:\n",
    "        print(loss)\n",
    "    return loss"
   ]
  },
  {
   "cell_type": "code",
   "execution_count": 91,
   "metadata": {},
   "outputs": [
    {
     "name": "stdout",
     "output_type": "stream",
     "text": [
      "Variable containing:\n",
      "-0.9460 -1.4277 -0.9893\n",
      "-0.9797 -1.4607 -0.9353\n",
      "-0.9360 -1.4737 -0.9709\n",
      "-0.9361 -1.4140 -1.0088\n",
      "-1.0441 -1.2930 -0.9847\n",
      "[torch.FloatTensor of size 5x3]\n",
      "\n",
      "Variable containing:\n",
      " 0\n",
      " 1\n",
      " 2\n",
      " 0\n",
      " 1\n",
      "[torch.LongTensor of size 5]\n",
      "\n",
      "Variable containing:\n",
      " 1.1213\n",
      "[torch.FloatTensor of size 1]\n",
      "\n"
     ]
    }
   ],
   "source": [
    "loss = get_loss_embedding_lstm_tagger_word_char(model, loss_function, X_train[0], X_char_train[0], Y_train[0], verbose=True)"
   ]
  },
  {
   "cell_type": "code",
   "execution_count": 92,
   "metadata": {},
   "outputs": [
    {
     "name": "stderr",
     "output_type": "stream",
     "text": [
      "100%|██████████| 100/100 [00:01<00:00, 56.15it/s]\n"
     ]
    },
    {
     "data": {
      "text/plain": [
       "<matplotlib.text.Text at 0x7f12142a45c0>"
      ]
     },
     "execution_count": 92,
     "metadata": {},
     "output_type": "execute_result"
    },
    {
     "name": "stderr",
     "output_type": "stream",
     "text": [
      "/home/napsternxg/anaconda3/lib/python3.5/site-packages/matplotlib/font_manager.py:1297: UserWarning: findfont: Font family ['sans-serif'] not found. Falling back to DejaVu Sans\n",
      "  (prop.get_family(), self.defaultFamily[fontext]))\n"
     ]
    },
    {
     "data": {
      "image/png": "[encoded data removed]",
      "text/plain": [
       "<matplotlib.figure.Figure at 0x7f121433ca58>"
      ]
     },
     "metadata": {},
     "output_type": "display_data"
    }
   ],
   "source": [
    "losses = []\n",
    "for epoch in tqdm(range(100)):\n",
    "    for seq, seq_char, label in zip(X_train, X_char_train, Y_train):\n",
    "        loss = get_loss_embedding_lstm_tagger_word_char(model, loss_function, seq, seq_char, label)\n",
    "        losses.append(loss.data[0])\n",
    "        ## Get gradients of model params wrt. loss\n",
    "        loss.backward()\n",
    "        ## Optimize the loss by one step\n",
    "        optimizer.step()\n",
    "        \n",
    "plt.plot(losses)\n",
    "plt.xlabel(\"Step\")\n",
    "plt.ylabel(\"Loss\")"
   ]
  },
  {
   "cell_type": "markdown",
   "metadata": {},
   "source": [
    "## CRF model\n",
    "\n",
    "Adopted from http://pytorch.org/tutorials/beginner/nlp/advanced_tutorial.html#sphx-glr-beginner-nlp-advanced-tutorial-py"
   ]
  },
  {
   "cell_type": "code",
   "execution_count": 93,
   "metadata": {},
   "outputs": [
    {
     "data": {
      "text/plain": [
       "Variable containing:\n",
       " 4.4402\n",
       "[torch.FloatTensor of size 1x1]"
      ]
     },
     "execution_count": 93,
     "metadata": {},
     "output_type": "execute_result"
    }
   ],
   "source": [
    "def to_scalar(var):\n",
    "    # returns a python float\n",
    "    return var.view(-1).data.tolist()[0]\n",
    "\n",
    "\n",
    "def argmax(vec):\n",
    "    # return the argmax as a python int\n",
    "    _, idx = torch.max(vec, 1)\n",
    "    return to_scalar(idx)\n",
    "\n",
    "\n",
    "def log_sum_exp_torch(vecs, axis=None):\n",
    "    ## Use help from: http://pytorch.org/tutorials/beginner/nlp/advanced_tutorial.html#sphx-glr-beginner-nlp-advanced-tutorial-py\n",
    "    if axis < 0:\n",
    "        axis = vecs.ndimension()+axis\n",
    "    max_val, _ = vecs.max(axis)\n",
    "    vecs = vecs - max_val.expand_as(vecs)\n",
    "    out_val = torch.log(torch.exp(vecs).sum(axis))\n",
    "    #print(max_val, out_val)\n",
    "    return max_val + out_val\n",
    "\n",
    "log_sum_exp_torch(Variable(torch.Tensor([[1,2,3,4]])), axis=-1)"
   ]
  },
  {
   "cell_type": "code",
   "execution_count": 94,
   "metadata": {
    "collapsed": true
   },
   "outputs": [],
   "source": [
    "class CRFLayer(nn.Module):\n",
    "    def __init__(self, num_labels):\n",
    "        super(CRFLayer, self).__init__()\n",
    "        self.num_labels = num_labels\n",
    "        self.transitions = nn.Parameter(torch.randn(self.num_labels, self.num_labels))\n",
    "        \n",
    "    def _forward_alg(self, emissions):\n",
    "        scores = emissions[0]\n",
    "        # Get the log sum exp score\n",
    "        transitions = self.transitions.transpose(-1,-2)\n",
    "        for i in range(1, emissions.size(0)):\n",
    "            scores = emissions[i] + log_sum_exp_torch(\n",
    "                scores.expand_as(transitions) + transitions,\n",
    "                axis=1)\n",
    "        return log_sum_exp_torch(scores, axis=-1)\n",
    "        \n",
    "    def _score_sentence(self, emissions, tags):\n",
    "        score = emissions[0][tags[0]]\n",
    "        for i, emission in enumerate(emissions[1:]):\n",
    "            score = score + self.transitions[tags[i], tags[i+1]] + emission[tags[i+1]]\n",
    "        return score\n",
    "    \n",
    "    def _viterbi_decode(self, emissions):\n",
    "        scores = torch.zeros(emissions.size(1))\n",
    "        back_pointers = torch.zeros(emissions.size()).int()\n",
    "        scores = scores + emissions[0]\n",
    "        transitions = self.transitions\n",
    "        # Generate most likely scores and paths for each step in sequence\n",
    "        for i in range(1, emissions.size(0)):\n",
    "            scores_with_transitions = scores.unsqueeze(1).expand_as(transitions) + transitions\n",
    "            max_scores, back_pointers[i] = torch.max(scores_with_transitions, 0)\n",
    "            scores = emissions[i] + max_scores\n",
    "        # Generate the most likely path\n",
    "        viterbi = [scores.numpy().argmax()]\n",
    "        back_pointers = back_pointers.numpy()\n",
    "        for bp in reversed(back_pointers[1:]):\n",
    "            viterbi.append(bp[viterbi[-1]])\n",
    "        viterbi.reverse()\n",
    "        viterbi_score = scores.numpy().max()\n",
    "        return viterbi_score, viterbi\n",
    "        \n",
    "    def neg_log_likelihood(self, feats, tags):\n",
    "        forward_score = self._forward_alg(feats)\n",
    "        gold_score = self._score_sentence(feats, tags)\n",
    "        return forward_score - gold_score\n",
    "        \n",
    "    def forward(self, feats):\n",
    "        # Find the best path, given the features.\n",
    "        score, tag_seq = self._viterbi_decode(feats)\n",
    "        return score, tag_seq"
   ]
  },
  {
   "cell_type": "code",
   "execution_count": 95,
   "metadata": {
    "collapsed": true
   },
   "outputs": [],
   "source": [
    "class LSTMTaggerWordCharCRF(nn.Module):\n",
    "    def __init__(self, word_char_embedding, embedding_size, hidden_size, output_size):\n",
    "        super(LSTMTaggerWordCharCRF, self).__init__()\n",
    "        self.word_embeddings = word_char_embedding\n",
    "        self.lstm = nn.LSTM(embedding_size, hidden_size//2, bidirectional=True)\n",
    "        self.output = nn.Linear(hidden_size, output_size)\n",
    "        self.crf = CRFLayer(output_size)\n",
    "        \n",
    "    def forward(self, X, X_char):\n",
    "        seq_embed = self.word_embeddings(X, X_char).permute(1, 0, 2)\n",
    "        out, hidden = self.lstm(seq_embed)\n",
    "        # Reshape the output to be a tensor of shape seq_len*label_size\n",
    "        output = self.output(out.view(X.data.size(1), -1))\n",
    "        return output\n",
    "    \n",
    "    def loss(self, X, X_char, Y):\n",
    "        feats = self.forward(X, X_char)\n",
    "        return self.crf.neg_log_likelihood(feats, Y)\n",
    "        \n",
    "        "
   ]
  },
  {
   "cell_type": "code",
   "execution_count": 96,
   "metadata": {},
   "outputs": [
    {
     "name": "stdout",
     "output_type": "stream",
     "text": [
      "Features:  Variable containing:\n",
      " 0.4043 -0.3115 -0.2113\n",
      " 0.4298 -0.4051 -0.2938\n",
      " 0.4460 -0.3561 -0.3785\n",
      " 0.3093 -0.2908 -0.4155\n",
      " 0.4780 -0.2837 -0.1906\n",
      "[torch.FloatTensor of size 5x3]\n",
      "\n"
     ]
    }
   ],
   "source": [
    "model = LSTMTaggerWordCharCRF(word_char_embedding, 8, 4, pos_vocab.size)\n",
    "features = model.forward(Variable(torch.LongTensor([X_train[0]])), charseq2varlist(X_char_train[0]))\n",
    "print(\"Features: \", features)"
   ]
  },
  {
   "cell_type": "code",
   "execution_count": 97,
   "metadata": {
    "collapsed": true
   },
   "outputs": [],
   "source": [
    "optimizer = optim.SGD([\n",
    "    {\"params\": model.parameters()},\n",
    "], lr=0.1)\n",
    "\n",
    "def get_loss_embedding_lstm_tagger_word_char_crf(model, seq, seq_char, label, verbose=False):\n",
    "    ## Clear gradients before every update else memory runs out\n",
    "    model.zero_grad()\n",
    "    ## Do forward pass\n",
    "    X, X_char = Variable(torch.LongTensor([seq])), charseq2varlist(seq_char)\n",
    "    ## Get labels\n",
    "    target  = torch.LongTensor(label)\n",
    "    if verbose:\n",
    "        print(target)\n",
    "    ## Get loss\n",
    "    loss = model.loss(X, X_char, target)\n",
    "    if verbose:\n",
    "        print(loss)\n",
    "    return loss"
   ]
  },
  {
   "cell_type": "code",
   "execution_count": 98,
   "metadata": {},
   "outputs": [
    {
     "name": "stdout",
     "output_type": "stream",
     "text": [
      "\n",
      " 0\n",
      " 1\n",
      " 2\n",
      " 0\n",
      " 1\n",
      "[torch.LongTensor of size 5]\n",
      "\n",
      "Variable containing:\n",
      " 8.7042\n",
      "[torch.FloatTensor of size 1]\n",
      "\n"
     ]
    }
   ],
   "source": [
    "loss = get_loss_embedding_lstm_tagger_word_char_crf(model, X_train[0], X_char_train[0], Y_train[0], verbose=True)"
   ]
  },
  {
   "cell_type": "code",
   "execution_count": 99,
   "metadata": {},
   "outputs": [
    {
     "name": "stderr",
     "output_type": "stream",
     "text": [
      "100%|██████████| 100/100 [00:01<00:00, 54.59it/s]\n"
     ]
    },
    {
     "data": {
      "text/plain": [
       "<matplotlib.text.Text at 0x7f121403d780>"
      ]
     },
     "execution_count": 99,
     "metadata": {},
     "output_type": "execute_result"
    },
    {
     "name": "stderr",
     "output_type": "stream",
     "text": [
      "/home/napsternxg/anaconda3/lib/python3.5/site-packages/matplotlib/font_manager.py:1297: UserWarning: findfont: Font family ['sans-serif'] not found. Falling back to DejaVu Sans\n",
      "  (prop.get_family(), self.defaultFamily[fontext]))\n"
     ]
    },
    {
     "data": {
      "image/png": "[encoded data removed]",
      "text/plain": [
       "<matplotlib.figure.Figure at 0x7f120c212b00>"
      ]
     },
     "metadata": {},
     "output_type": "display_data"
    }
   ],
   "source": [
    "losses = []\n",
    "for epoch in tqdm(range(100)):\n",
    "    for seq, seq_char, label in zip(X_train, X_char_train, Y_train):\n",
    "        loss = get_loss_embedding_lstm_tagger_word_char_crf(model, seq, seq_char, label)\n",
    "        losses.append(loss.data[0])\n",
    "        ## Get gradients of model params wrt. loss\n",
    "        loss.backward()\n",
    "        ## Optimize the loss by one step\n",
    "        optimizer.step()\n",
    "        \n",
    "plt.plot(losses)\n",
    "plt.xlabel(\"Step\")\n",
    "plt.ylabel(\"Loss\")"
   ]
  },
  {
   "cell_type": "code",
   "execution_count": null,
   "metadata": {
    "collapsed": true
   },
   "outputs": [],
   "source": []
  }
 ],
 "metadata": {
  "kernelspec": {
   "display_name": "Python [default]",
   "language": "python",
   "name": "python3"
  },
  "language_info": {
   "codemirror_mode": {
    "name": "ipython",
    "version": 3
   },
   "file_extension": ".py",
   "mimetype": "text/x-python",
   "name": "python",
   "nbconvert_exporter": "python",
   "pygments_lexer": "ipython3",
   "version": "3.5.2"
  }
 },
 "nbformat": 4,
 "nbformat_minor": 2
}
